{
 "cells": [
  {
   "cell_type": "code",
   "execution_count": 1,
   "metadata": {
    "collapsed": true
   },
   "outputs": [],
   "source": [
    "import json\n",
    "from pyspark.sql import Row\n",
    "from pyspark.sql.functions import udf"
   ]
  },
  {
   "cell_type": "code",
   "execution_count": 2,
   "metadata": {
    "collapsed": true
   },
   "outputs": [],
   "source": [
    "@udf('string')\n",
    "def munge_event(event_as_json):\n",
    "    event = json.loads(event_as_json)\n",
    "    event['Host'] = \"moe\"\n",
    "    event['Cache-Control'] = \"no-cache\"\n",
    "    return json.dumps(event)"
   ]
  },
  {
   "cell_type": "code",
   "execution_count": 3,
   "metadata": {},
   "outputs": [
    {
     "data": {
      "text/html": [
       "\n",
       "            <div>\n",
       "                <p><b>SparkSession - hive</b></p>\n",
       "                \n",
       "        <div>\n",
       "            <p><b>SparkContext</b></p>\n",
       "\n",
       "            <p><a href=\"http://172.20.0.5:4040\">Spark UI</a></p>\n",
       "\n",
       "            <dl>\n",
       "              <dt>Version</dt>\n",
       "                <dd><code>v2.2.0</code></dd>\n",
       "              <dt>Master</dt>\n",
       "                <dd><code>local[*]</code></dd>\n",
       "              <dt>AppName</dt>\n",
       "                <dd><code>PySparkShell</code></dd>\n",
       "            </dl>\n",
       "        </div>\n",
       "        \n",
       "            </div>\n",
       "        "
      ],
      "text/plain": [
       "<pyspark.sql.session.SparkSession at 0x7f1db017bcc0>"
      ]
     },
     "execution_count": 3,
     "metadata": {},
     "output_type": "execute_result"
    }
   ],
   "source": [
    "spark"
   ]
  },
  {
   "cell_type": "code",
   "execution_count": 4,
   "metadata": {
    "collapsed": true
   },
   "outputs": [],
   "source": [
    "raw_events = spark \\\n",
    "        .read \\\n",
    "        .format(\"kafka\") \\\n",
    "        .option(\"kafka.bootstrap.servers\", \"kafka:29092\") \\\n",
    "        .option(\"subscribe\", \"events\") \\\n",
    "        .option(\"startingOffsets\", \"earliest\") \\\n",
    "        .option(\"endingOffsets\", \"latest\") \\\n",
    "        .load()"
   ]
  },
  {
   "cell_type": "code",
   "execution_count": 5,
   "metadata": {},
   "outputs": [
    {
     "name": "stdout",
     "output_type": "stream",
     "text": [
      "+----+--------------------+------+---------+------+--------------------+-------------+\n",
      "| key|               value| topic|partition|offset|           timestamp|timestampType|\n",
      "+----+--------------------+------+---------+------+--------------------+-------------+\n",
      "|null|[7B 22 48 6F 73 7...|events|        0|     0|2020-11-06 00:27:...|            0|\n",
      "|null|[7B 22 48 6F 73 7...|events|        0|     1|2020-11-06 00:28:...|            0|\n",
      "|null|[7B 22 48 6F 73 7...|events|        0|     2|2020-11-06 00:30:...|            0|\n",
      "|null|[7B 22 48 6F 73 7...|events|        0|     3|2020-11-06 00:30:...|            0|\n",
      "|null|[7B 22 48 6F 73 7...|events|        0|     4|2020-11-06 00:30:...|            0|\n",
      "|null|[7B 22 48 6F 73 7...|events|        0|     5|2020-11-06 00:30:...|            0|\n",
      "|null|[7B 22 48 6F 73 7...|events|        0|     6|2020-11-06 00:30:...|            0|\n",
      "|null|[7B 22 48 6F 73 7...|events|        0|     7|2020-11-06 00:30:...|            0|\n",
      "|null|[7B 22 48 6F 73 7...|events|        0|     8|2020-11-06 00:30:...|            0|\n",
      "|null|[7B 22 48 6F 73 7...|events|        0|     9|2020-11-06 00:30:...|            0|\n",
      "+----+--------------------+------+---------+------+--------------------+-------------+\n",
      "\n"
     ]
    }
   ],
   "source": [
    "raw_events.show()"
   ]
  },
  {
   "cell_type": "code",
   "execution_count": 6,
   "metadata": {
    "collapsed": true
   },
   "outputs": [],
   "source": [
    "munged_events = raw_events \\\n",
    "        .select(raw_events.value.cast('string').alias('raw'),\n",
    "                raw_events.timestamp.cast('string')) \\\n",
    "        .withColumn('munged', munge_event('raw'))"
   ]
  },
  {
   "cell_type": "code",
   "execution_count": 7,
   "metadata": {},
   "outputs": [
    {
     "name": "stdout",
     "output_type": "stream",
     "text": [
      "+--------------------+--------------------+--------------------+\n",
      "|                 raw|           timestamp|              munged|\n",
      "+--------------------+--------------------+--------------------+\n",
      "|{\"Host\": \"localho...|2020-11-06 00:27:...|{\"Host\": \"moe\", \"...|\n",
      "|{\"Host\": \"localho...|2020-11-06 00:28:...|{\"Host\": \"moe\", \"...|\n",
      "|{\"Host\": \"localho...|2020-11-06 00:30:...|{\"Host\": \"moe\", \"...|\n",
      "|{\"Host\": \"localho...|2020-11-06 00:30:...|{\"Host\": \"moe\", \"...|\n",
      "|{\"Host\": \"localho...|2020-11-06 00:30:...|{\"Host\": \"moe\", \"...|\n",
      "|{\"Host\": \"localho...|2020-11-06 00:30:...|{\"Host\": \"moe\", \"...|\n",
      "|{\"Host\": \"localho...|2020-11-06 00:30:...|{\"Host\": \"moe\", \"...|\n",
      "|{\"Host\": \"localho...|2020-11-06 00:30:...|{\"Host\": \"moe\", \"...|\n",
      "|{\"Host\": \"localho...|2020-11-06 00:30:...|{\"Host\": \"moe\", \"...|\n",
      "|{\"Host\": \"localho...|2020-11-06 00:30:...|{\"Host\": \"moe\", \"...|\n",
      "+--------------------+--------------------+--------------------+\n",
      "\n"
     ]
    }
   ],
   "source": [
    "munged_events.show()"
   ]
  },
  {
   "cell_type": "code",
   "execution_count": 8,
   "metadata": {
    "collapsed": true
   },
   "outputs": [],
   "source": [
    "extracted_events = munged_events \\\n",
    "        .rdd \\\n",
    "        .map(lambda r: Row(timestamp=r.timestamp, **json.loads(r.munged))) \\\n",
    "        .toDF()"
   ]
  },
  {
   "cell_type": "code",
   "execution_count": 9,
   "metadata": {},
   "outputs": [
    {
     "name": "stdout",
     "output_type": "stream",
     "text": [
      "+------+-------------+----+-----------+--------------+--------------------+\n",
      "|Accept|Cache-Control|Host| User-Agent|    event_type|           timestamp|\n",
      "+------+-------------+----+-----------+--------------+--------------------+\n",
      "|   */*|     no-cache| moe|curl/7.47.0|       default|2020-11-06 00:27:...|\n",
      "|   */*|     no-cache| moe|curl/7.47.0|purchase_sword|2020-11-06 00:28:...|\n",
      "|   */*|     no-cache| moe|curl/7.47.0|       default|2020-11-06 00:30:...|\n",
      "|   */*|     no-cache| moe|curl/7.47.0|       default|2020-11-06 00:30:...|\n",
      "|   */*|     no-cache| moe|curl/7.47.0|purchase_sword|2020-11-06 00:30:...|\n",
      "|   */*|     no-cache| moe|curl/7.47.0|purchase_sword|2020-11-06 00:30:...|\n",
      "|   */*|     no-cache| moe|curl/7.47.0|       default|2020-11-06 00:30:...|\n",
      "|   */*|     no-cache| moe|curl/7.47.0|purchase_sword|2020-11-06 00:30:...|\n",
      "|   */*|     no-cache| moe|curl/7.47.0|       default|2020-11-06 00:30:...|\n",
      "|   */*|     no-cache| moe|curl/7.47.0|       default|2020-11-06 00:30:...|\n",
      "+------+-------------+----+-----------+--------------+--------------------+\n",
      "\n"
     ]
    }
   ],
   "source": [
    "extracted_events.show()"
   ]
  },
  {
   "cell_type": "code",
   "execution_count": 10,
   "metadata": {
    "collapsed": true
   },
   "outputs": [],
   "source": [
    "sword_purchases = extracted_events \\\n",
    "        .filter(extracted_events.event_type == 'purchase_sword')"
   ]
  },
  {
   "cell_type": "code",
   "execution_count": 11,
   "metadata": {},
   "outputs": [
    {
     "name": "stdout",
     "output_type": "stream",
     "text": [
      "+------+-------------+----+-----------+--------------+--------------------+\n",
      "|Accept|Cache-Control|Host| User-Agent|    event_type|           timestamp|\n",
      "+------+-------------+----+-----------+--------------+--------------------+\n",
      "|   */*|     no-cache| moe|curl/7.47.0|purchase_sword|2020-11-06 00:28:...|\n",
      "|   */*|     no-cache| moe|curl/7.47.0|purchase_sword|2020-11-06 00:30:...|\n",
      "|   */*|     no-cache| moe|curl/7.47.0|purchase_sword|2020-11-06 00:30:...|\n",
      "|   */*|     no-cache| moe|curl/7.47.0|purchase_sword|2020-11-06 00:30:...|\n",
      "+------+-------------+----+-----------+--------------+--------------------+\n",
      "\n"
     ]
    }
   ],
   "source": [
    "sword_purchases.show()"
   ]
  },
  {
   "cell_type": "code",
   "execution_count": 12,
   "metadata": {
    "collapsed": true
   },
   "outputs": [],
   "source": [
    "default_hits = extracted_events \\\n",
    "        .filter(extracted_events.event_type == 'default')"
   ]
  },
  {
   "cell_type": "code",
   "execution_count": 13,
   "metadata": {},
   "outputs": [
    {
     "name": "stdout",
     "output_type": "stream",
     "text": [
      "+------+-------------+----+-----------+----------+--------------------+\n",
      "|Accept|Cache-Control|Host| User-Agent|event_type|           timestamp|\n",
      "+------+-------------+----+-----------+----------+--------------------+\n",
      "|   */*|     no-cache| moe|curl/7.47.0|   default|2020-11-06 00:27:...|\n",
      "|   */*|     no-cache| moe|curl/7.47.0|   default|2020-11-06 00:30:...|\n",
      "|   */*|     no-cache| moe|curl/7.47.0|   default|2020-11-06 00:30:...|\n",
      "|   */*|     no-cache| moe|curl/7.47.0|   default|2020-11-06 00:30:...|\n",
      "|   */*|     no-cache| moe|curl/7.47.0|   default|2020-11-06 00:30:...|\n",
      "|   */*|     no-cache| moe|curl/7.47.0|   default|2020-11-06 00:30:...|\n",
      "+------+-------------+----+-----------+----------+--------------------+\n",
      "\n"
     ]
    }
   ],
   "source": [
    "default_hits.show()"
   ]
  },
  {
   "cell_type": "code",
   "execution_count": null,
   "metadata": {
    "collapsed": true
   },
   "outputs": [],
   "source": []
  }
 ],
 "metadata": {
  "kernelspec": {
   "display_name": "Python 3",
   "language": "python",
   "name": "python3"
  },
  "language_info": {
   "codemirror_mode": {
    "name": "ipython",
    "version": 3
   },
   "file_extension": ".py",
   "mimetype": "text/x-python",
   "name": "python",
   "nbconvert_exporter": "python",
   "pygments_lexer": "ipython3",
   "version": "3.6.1"
  }
 },
 "nbformat": 4,
 "nbformat_minor": 2
}
