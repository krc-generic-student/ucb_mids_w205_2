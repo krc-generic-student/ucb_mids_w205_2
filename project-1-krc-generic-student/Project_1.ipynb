{
 "cells": [
  {
   "cell_type": "markdown",
   "metadata": {},
   "source": [
    "### What are the top 5 commuter trips\n",
    "\n",
    "The top 5 communter trips are xxxxx"
   ]
  },
  {
   "cell_type": "code",
   "execution_count": null,
   "metadata": {},
   "outputs": [],
   "source": []
  },
  {
   "cell_type": "markdown",
   "metadata": {},
   "source": [
    "### Recommendations"
   ]
  },
  {
   "cell_type": "markdown",
   "metadata": {},
   "source": [
    "#### Recommendation: Add coupons on Sundays\n",
    "\n",
    "The data shows that Sundays are not busy.  I recomend we add couposns"
   ]
  },
  {
   "cell_type": "code",
   "execution_count": null,
   "metadata": {},
   "outputs": [],
   "source": []
  },
  {
   "cell_type": "code",
   "execution_count": null,
   "metadata": {},
   "outputs": [],
   "source": []
  },
  {
   "cell_type": "markdown",
   "metadata": {},
   "source": [
    "### Addendix - SQL to create temporary views\n",
    "\n",
    "```sql\n",
    "select *\n",
    "from xxx\n",
    "```\n",
    "\n",
    "```sql\n",
    "SELECT\n",
    "  dow,\n",
    "  start_hour,\n",
    "  AVG(number_trips)\n",
    "FROM (\n",
    "  SELECT\n",
    "    start_date,\n",
    "    EXTRACT(DAYOFWEEK\n",
    "    FROM\n",
    "      start_date) AS dow,\n",
    "    EXTRACT(HOUR\n",
    "    FROM\n",
    "      start_date) AS start_hour,\n",
    "    COUNT(*) AS number_trips\n",
    "  FROM\n",
    "    `bigquery-public-data.san_francisco.bikeshare_trips`\n",
    "  GROUP BY\n",
    "    start_date,\n",
    "    dow,\n",
    "    start_hour )\n",
    "GROUP BY\n",
    "  dow,\n",
    "  start_hour\n",
    "ORDER BY\n",
    "  1,\n",
    "  2\n",
    "```\n"
   ]
  },
  {
   "cell_type": "markdown",
   "metadata": {},
   "source": [
    "![Map of Stations](Berkeley.PNG)"
   ]
  },
  {
   "cell_type": "code",
   "execution_count": null,
   "metadata": {},
   "outputs": [],
   "source": []
  }
 ],
 "metadata": {
  "environment": {
   "name": "tf2-2-3-gpu.2-3.m55",
   "type": "gcloud",
   "uri": "gcr.io/deeplearning-platform-release/tf2-2-3-gpu.2-3:m55"
  },
  "kernelspec": {
   "display_name": "Python 3",
   "language": "python",
   "name": "python3"
  },
  "language_info": {
   "codemirror_mode": {
    "name": "ipython",
    "version": 3
   },
   "file_extension": ".py",
   "mimetype": "text/x-python",
   "name": "python",
   "nbconvert_exporter": "python",
   "pygments_lexer": "ipython3",
   "version": "3.7.8"
  }
 },
 "nbformat": 4,
 "nbformat_minor": 4
}
