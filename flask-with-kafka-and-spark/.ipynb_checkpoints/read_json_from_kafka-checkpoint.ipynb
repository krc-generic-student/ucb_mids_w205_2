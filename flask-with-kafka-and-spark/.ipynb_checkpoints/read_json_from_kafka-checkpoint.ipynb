{
 "cells": [
  {
   "cell_type": "code",
   "execution_count": 1,
   "metadata": {
    "collapsed": true
   },
   "outputs": [],
   "source": [
    "import json\n"
   ]
  },
  {
   "cell_type": "code",
   "execution_count": 2,
   "metadata": {
    "collapsed": true
   },
   "outputs": [],
   "source": [
    "raw_events = spark.read.format(\"kafka\").option(\"kafka.bootstrap.servers\", \"kafka:29092\").option(\"subscribe\",\"events\").option(\"startingOffsets\", \"earliest\").option(\"endingOffsets\", \"latest\").load() \n"
   ]
  },
  {
   "cell_type": "code",
   "execution_count": 3,
   "metadata": {},
   "outputs": [
    {
     "name": "stdout",
     "output_type": "stream",
     "text": [
      "+----+--------------------+------+---------+------+--------------------+-------------+\n",
      "| key|               value| topic|partition|offset|           timestamp|timestampType|\n",
      "+----+--------------------+------+---------+------+--------------------+-------------+\n",
      "|null|[7B 22 65 76 65 6...|events|        0|     0|2020-10-29 23:44:...|            0|\n",
      "|null|[7B 22 65 76 65 6...|events|        0|     1|2020-10-29 23:45:...|            0|\n",
      "|null|[7B 22 65 76 65 6...|events|        0|     2|2020-10-29 23:47:...|            0|\n",
      "|null|[7B 22 65 76 65 6...|events|        0|     3|2020-10-29 23:48:...|            0|\n",
      "|null|[7B 22 65 76 65 6...|events|        0|     4|2020-10-29 23:50:...|            0|\n",
      "|null|[7B 22 65 76 65 6...|events|        0|     5|2020-10-29 23:50:...|            0|\n",
      "|null|[7B 22 65 76 65 6...|events|        0|     6|2020-10-29 23:50:...|            0|\n",
      "|null|[7B 22 65 76 65 6...|events|        0|     7|2020-10-29 23:50:...|            0|\n",
      "|null|[7B 22 65 76 65 6...|events|        0|     8|2020-10-29 23:50:...|            0|\n",
      "|null|[7B 22 65 76 65 6...|events|        0|     9|2020-10-29 23:50:...|            0|\n",
      "|null|[7B 22 65 76 65 6...|events|        0|    10|2020-10-29 23:50:...|            0|\n",
      "|null|[7B 22 65 76 65 6...|events|        0|    11|2020-10-29 23:50:...|            0|\n",
      "|null|[7B 22 65 76 65 6...|events|        0|    12|2020-10-29 23:50:...|            0|\n",
      "|null|[7B 22 65 76 65 6...|events|        0|    13|2020-10-29 23:50:...|            0|\n",
      "|null|[7B 22 65 76 65 6...|events|        0|    14|2020-10-29 23:50:...|            0|\n",
      "|null|[7B 22 65 76 65 6...|events|        0|    15|2020-10-29 23:50:...|            0|\n",
      "|null|[7B 22 65 76 65 6...|events|        0|    16|2020-10-29 23:50:...|            0|\n",
      "|null|[7B 22 65 76 65 6...|events|        0|    17|2020-10-29 23:50:...|            0|\n",
      "|null|[7B 22 65 76 65 6...|events|        0|    18|2020-10-29 23:50:...|            0|\n",
      "|null|[7B 22 65 76 65 6...|events|        0|    19|2020-10-29 23:50:...|            0|\n",
      "+----+--------------------+------+---------+------+--------------------+-------------+\n",
      "only showing top 20 rows\n",
      "\n"
     ]
    }
   ],
   "source": [
    "raw_events.show()"
   ]
  },
  {
   "cell_type": "code",
   "execution_count": 4,
   "metadata": {
    "collapsed": true
   },
   "outputs": [],
   "source": [
    "events = raw_events.select(raw_events.value.cast('string'))\n"
   ]
  },
  {
   "cell_type": "code",
   "execution_count": 5,
   "metadata": {},
   "outputs": [
    {
     "name": "stdout",
     "output_type": "stream",
     "text": [
      "+--------------------+\n",
      "|               value|\n",
      "+--------------------+\n",
      "|{\"event_type\": \"d...|\n",
      "|{\"event_type\": \"p...|\n",
      "|{\"event_type\": \"d...|\n",
      "|{\"event_type\": \"p...|\n",
      "|{\"event_type\": \"d...|\n",
      "|{\"event_type\": \"p...|\n",
      "|{\"event_type\": \"d...|\n",
      "|{\"event_type\": \"p...|\n",
      "|{\"event_type\": \"d...|\n",
      "|{\"event_type\": \"p...|\n",
      "|{\"event_type\": \"d...|\n",
      "|{\"event_type\": \"p...|\n",
      "|{\"event_type\": \"d...|\n",
      "|{\"event_type\": \"p...|\n",
      "|{\"event_type\": \"d...|\n",
      "|{\"event_type\": \"p...|\n",
      "|{\"event_type\": \"d...|\n",
      "|{\"event_type\": \"p...|\n",
      "|{\"event_type\": \"d...|\n",
      "|{\"event_type\": \"p...|\n",
      "+--------------------+\n",
      "only showing top 20 rows\n",
      "\n"
     ]
    }
   ],
   "source": [
    "events.show()"
   ]
  },
  {
   "cell_type": "code",
   "execution_count": 6,
   "metadata": {},
   "outputs": [
    {
     "name": "stderr",
     "output_type": "stream",
     "text": [
      "/spark-2.2.0-bin-hadoop2.6/python/pyspark/sql/session.py:351: UserWarning: Using RDD of dict to inferSchema is deprecated. Use pyspark.sql.Row instead\n",
      "  warnings.warn(\"Using RDD of dict to inferSchema is deprecated. \"\n"
     ]
    }
   ],
   "source": [
    "extracted_events = events.rdd.map(lambda x: json.loads(x.value)).toDF()\n"
   ]
  },
  {
   "cell_type": "code",
   "execution_count": 8,
   "metadata": {},
   "outputs": [
    {
     "name": "stdout",
     "output_type": "stream",
     "text": [
      "+--------------+\n",
      "|    event_type|\n",
      "+--------------+\n",
      "|       default|\n",
      "|purchase_sword|\n",
      "|       default|\n",
      "|purchase_sword|\n",
      "|       default|\n",
      "|purchase_sword|\n",
      "|       default|\n",
      "|purchase_sword|\n",
      "|       default|\n",
      "|purchase_sword|\n",
      "|       default|\n",
      "|purchase_sword|\n",
      "|       default|\n",
      "|purchase_sword|\n",
      "|       default|\n",
      "|purchase_sword|\n",
      "|       default|\n",
      "|purchase_sword|\n",
      "|       default|\n",
      "|purchase_sword|\n",
      "|       default|\n",
      "|purchase_sword|\n",
      "|       default|\n",
      "|purchase_sword|\n",
      "|       default|\n",
      "|purchase_sword|\n",
      "|       default|\n",
      "|purchase_sword|\n",
      "|       default|\n",
      "|purchase_sword|\n",
      "|       default|\n",
      "|purchase_sword|\n",
      "|       default|\n",
      "|purchase_sword|\n",
      "|       default|\n",
      "|purchase_sword|\n",
      "|       default|\n",
      "|purchase_sword|\n",
      "|       default|\n",
      "|purchase_sword|\n",
      "|       default|\n",
      "|purchase_sword|\n",
      "|       default|\n",
      "|purchase_sword|\n",
      "|       default|\n",
      "|purchase_sword|\n",
      "| purchase_frog|\n",
      "|       default|\n",
      "|purchase_sword|\n",
      "| purchase_frog|\n",
      "|       default|\n",
      "|purchase_sword|\n",
      "| purchase_frog|\n",
      "+--------------+\n",
      "\n"
     ]
    }
   ],
   "source": [
    "extracted_events.show(1000)\n"
   ]
  },
  {
   "cell_type": "code",
   "execution_count": null,
   "metadata": {
    "collapsed": true
   },
   "outputs": [],
   "source": []
  }
 ],
 "metadata": {
  "kernelspec": {
   "display_name": "Python 3",
   "language": "python",
   "name": "python3"
  },
  "language_info": {
   "codemirror_mode": {
    "name": "ipython",
    "version": 3
   },
   "file_extension": ".py",
   "mimetype": "text/x-python",
   "name": "python",
   "nbconvert_exporter": "python",
   "pygments_lexer": "ipython3",
   "version": "3.6.1"
  }
 },
 "nbformat": 4,
 "nbformat_minor": 2
}
